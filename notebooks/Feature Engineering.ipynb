{
 "cells": [
  {
   "cell_type": "markdown",
   "id": "89d61843-a42a-4b55-a99b-1a7d9b359e1d",
   "metadata": {},
   "source": [
    "# Feature Engineering\n",
    "Будет проводить на основе выводов полученных из EDA. Включает в себя и Data Cleaning, поскольку избавиться от неинформативных признаков так же важно, как и сконструировать новые. \n"
   ]
  },
  {
   "cell_type": "markdown",
   "id": "7a925ba5-1072-4b94-98ff-f05b8c2103f9",
   "metadata": {},
   "source": [
    "## Загрузка библиотек"
   ]
  },
  {
   "cell_type": "code",
   "execution_count": null,
   "id": "9a7110f4-821f-4529-8916-befde122b958",
   "metadata": {},
   "outputs": [],
   "source": [
    "import pandas as pd\n",
    "import numpy as np\n",
    "from scipy.stats import uniform\n",
    "\n",
    "import matplotlib.pyplot as plt\n",
    "import seaborn as sns\n",
    "from prettytable import PrettyTable\n",
    "\n",
    "import os\n",
    "import gc\n",
    "import pickle\n"
   ]
  }
 ],
 "metadata": {
  "kernelspec": {
   "display_name": "Python 3 (ipykernel)",
   "language": "python",
   "name": "python3"
  },
  "language_info": {
   "codemirror_mode": {
    "name": "ipython",
    "version": 3
   },
   "file_extension": ".py",
   "mimetype": "text/x-python",
   "name": "python",
   "nbconvert_exporter": "python",
   "pygments_lexer": "ipython3",
   "version": "3.12.8"
  }
 },
 "nbformat": 4,
 "nbformat_minor": 5
}
